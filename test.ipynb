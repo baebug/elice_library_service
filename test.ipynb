{
 "cells": [
  {
   "cell_type": "code",
   "execution_count": null,
   "source": [
    "import csv\n",
    "\n",
    "with open('book_list.csv') as db :\n",
    "    records = csv.DictReader(db)\n",
    "    result = [ (w['book_name'], w['publisher'], w['author'], w['publication_date'], w['pages'], w['isbn'], w['description'], w['link']) for w in records]\n",
    "\n",
    "len(result)\n",
    "result[:5]"
   ],
   "outputs": [],
   "metadata": {}
  },
  {
   "cell_type": "code",
   "execution_count": 6,
   "source": [
    "import sqlite3\n",
    "\n",
    "with sqlite3.connect('./db.sqlite3') as con:\n",
    "    cur = con.cursor()\n",
    "    cur.execute(\"SELECT * FROM books\")\n",
    "    result = cur.fetchall()\n",
    "    print(len(result))\n",
    "    print(result[0])\n",
    "    print(result[31])\n"
   ],
   "outputs": [
    {
     "output_type": "stream",
     "name": "stdout",
     "text": [
      "32\n",
      "(1, '주니어를 위한 최선의 코딩 학습 똑똑한 파이썬', '코딩스쿨(인포앤북)', '황재호/황예린', '2019-07-01', 240, 9791196440916, '주니어의 코딩 학습을 위한 최상의 파이썬 학습서\\n초등학교에서 스크래치, 엔트리 등의 블록코딩으로 알고리즘의 기초를 배우고 난 후 글자로 된 텍스트 코딩 단계에 들어가면 아이들이 어려워하게 된다. 이 책은 동물 일러스트를 활용하고 쉽고 재미있는 예제들을 많이 수록하여 아이들이 혼자서 재미있게 코딩을 공부할 수 있도록 하였다. 또한 이 책은 파이썬 코딩과 알고리즘에 대한 기초 지식이 없는 초등학교 고학년생과 중학생들을 대상으로 한 코딩 및 알고리즘 수업의 교재로 활용하기 적합하게 집필되었다.', 'http://codingschool.info/book/index.php?book=smart_python')\n",
      "(32, '혼자 공부하는 첫 프로그래밍 파이썬', '한빛출판네트워크', '문헌일', '2020-06-30', 336, 9791162243039, '비전공자도 ‘혼공’ 할 수 있다!\\n\\n1:1 과외하듯 배우는 왕초보 코딩 입문서\\n\\n \\n\\n유튜브 강의! 그림으로 보여주는 ‘눈코딩’ 예제! 프로그램 설치 없이 온라인 실습! 부록 용어 노트! 이 모든 것을 제공하기에 비전공자도 프로그래밍을 독학할 수 있습니다.\\n\\n이 책은 비전공자가 시중에 나온 프로그래밍 책을 이해할 수 있게, 기존 입문서보다 더 기초부터 알려줍니다. 프로그래밍을 배우기 전 알아야 하는 문법 원리를 비전공자의 눈높이에 맞춰 그림으로 보는 ‘눈코딩’으로 보여주고, 직접 따라 해보는 짧은 ‘손코딩’으로 연습합니다. 일상생활 속 친근한 예시로 프로그래밍이 어디에서 어떻게 쓰이는지를 알게 해, 이해가 쉽고 동기 부여가 됩니다.', 'https://www.hanbit.co.kr/store/books/look.php?p_code=B9609283195')\n"
     ]
    }
   ],
   "metadata": {}
  }
 ],
 "metadata": {
  "orig_nbformat": 4,
  "language_info": {
   "name": "python",
   "version": "3.9.7",
   "mimetype": "text/x-python",
   "codemirror_mode": {
    "name": "ipython",
    "version": 3
   },
   "pygments_lexer": "ipython3",
   "nbconvert_exporter": "python",
   "file_extension": ".py"
  },
  "kernelspec": {
   "name": "python3",
   "display_name": "Python 3.9.7 64-bit"
  },
  "interpreter": {
   "hash": "b0fa6594d8f4cbf19f97940f81e996739fb7646882a419484c72d19e05852a7e"
  }
 },
 "nbformat": 4,
 "nbformat_minor": 2
}